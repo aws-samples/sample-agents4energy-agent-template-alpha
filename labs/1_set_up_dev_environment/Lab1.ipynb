{
 "cells": [
  {
   "cell_type": "code",
   "execution_count": 1,
   "id": "5fcd42cb-5983-4527-b56f-00a2638bb747",
   "metadata": {},
   "outputs": [
    {
     "name": "stderr",
     "output_type": "stream",
     "text": []
    },
    {
     "name": "stdout",
     "output_type": "stream",
     "text": [
      "      Name                    Value             Type    Location\n",
      "      ----                    -----             ----    --------\n",
      "   profile                      dev              env    ['AWS_PROFILE', 'AWS_DEFAULT_PROFILE']\n",
      "access_key     ****************VIP7              sso    \n",
      "secret_key     ****************BHsp              sso    \n",
      "    region                us-east-1              env    ['AWS_REGION', 'AWS_DEFAULT_REGION']\n",
      "\n"
     ]
    }
   ],
   "source": [
    "console.log(require(\"child_process\").execSync(\n",
    "    \"aws configure list\"\n",
    ").toString())"
   ]
  },
  {
   "cell_type": "code",
   "execution_count": null,
   "id": "88ecb0ff-bf43-4901-b3cc-310fe302a2cd",
   "metadata": {},
   "outputs": [],
   "source": [
    "// Sample JavaScript code\n",
    "const greeting = \"Hello from JavaScript!\";\n",
    "console.log(greeting);\n",
    "\n",
    "// Working with arrays\n",
    "const numbers = [1, 2, 3, 4, 5];\n",
    "const doubled = numbers.map(num => num * 2);\n",
    "console.log(\"Original numbers:\", numbers);\n",
    "console.log(\"Doubled numbers:\", doubled);\n",
    "\n",
    "// Working with objects\n",
    "const person = {\n",
    "    name: \"Alice\",\n",
    "    age: 30,\n",
    "    occupation: \"Developer\"\n",
    "};\n",
    "console.log(\"Person object:\", person);\n",
    "console.log(`${person.name} is a ${person.age}-year-old ${person.occupation}.`);\n",
    "\n",
    "// Simple function\n",
    "function calculateSum(a, b) {\n",
    "    return a + b;\n",
    "}\n",
    "console.log(\"Sum of 5 and 10:\", calculateSum(5, 10));\n"
   ]
  }
 ],
 "metadata": {
  "kernelspec": {
   "display_name": "JavaScript (Node.js)",
   "language": "javascript",
   "name": "javascript"
  },
  "language_info": {
   "file_extension": ".js",
   "mimetype": "application/javascript",
   "name": "javascript",
   "version": "20.18.1"
  }
 },
 "nbformat": 4,
 "nbformat_minor": 5
}
