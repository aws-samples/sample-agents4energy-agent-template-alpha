{
 "cells": [
  {
   "cell_type": "markdown",
   "id": "a847981c-cb29-488a-bfae-dcf376132c36",
   "metadata": {},
   "source": [
    "# Lab 2: Building Your First LangGraph Agent with AWS Bedrock\n",
    "\n",
    "In this lab, you'll learn how to create your first AI agent using LangGraph and AWS Bedrock. You'll understand core concepts, implement a conversational agent, and manage agent state locally.\n",
    "\n",
    "## Prerequisites\n",
    "- Completed Lab 1 setup\n",
    "- Python 3.9+ installed\n",
    "- AWS account with Bedrock access\n",
    "- Basic understanding of Python and async programming\n",
    "- AWS credentials configured locally\n",
    "\n",
    "## Learning Objectives\n",
    "- Understand LangGraph core concepts\n",
    "- Build a basic conversational agent using AWS Bedrock\n",
    "- Implement state management\n",
    "- Test the agent locally\n",
    "\n",
    "## Part 1: Understanding LangGraph Concepts\n",
    "\n",
    "LangGraph is a framework for building stateful, multi-step AI agents. Key concepts include:\n",
    "\n",
    "- **Nodes**: Individual steps in your agent's workflow\n",
    "- **Edges**: Connections between nodes that define the flow\n",
    "- **State**: Information persisted between steps\n",
    "- **Tools**: Functions your agent can use to interact with the world\n",
    "- **Events**: Stream of information during agent execution\n",
    "\n",
    "## Part 2: Setting Up Your Agent"
   ]
  },
  {
   "cell_type": "code",
   "execution_count": 1,
   "id": "3d791750-5b0a-417b-8014-f4ec3531d485",
   "metadata": {},
   "outputs": [
    {
     "data": {
      "text/plain": [
       "20"
      ]
     },
     "execution_count": 1,
     "metadata": {},
     "output_type": "execute_result"
    }
   ],
   "source": [
    "const { ChatBedrockConverse } = require(\"@langchain/aws\");\n",
    "const { HumanMessage, AIMessage, SystemMessage, BaseMessage } = require(\"@langchain/core/messages\");\n",
    "const { createReactAgent } = require(\"@langchain/langgraph/prebuilt\");\n",
    "const { Calculator } = require(\"@langchain/community/tools/calculator\");\n",
    "const { EventEmitter } = require(\"events\");\n",
    "\n",
    "process.env.AWS_DEFAULT_REGION='us-east-1'\n",
    "// Increase the default max listeners to prevent warnings\n",
    "EventEmitter.defaultMaxListeners = 20;"
   ]
  },
  {
   "cell_type": "code",
   "execution_count": 2,
   "id": "9fb3d621-38c7-4f05-9774-26bb2b24e460",
   "metadata": {},
   "outputs": [],
   "source": [
    "// Initialize Bedrock LLM\n",
    "const llm = new ChatBedrockConverse({\n",
    "    model: \"us.anthropic.claude-3-5-haiku-20241022-v1:0\",\n",
    "    streaming: true\n",
    "});\n",
    "\n",
    "// Define available tools\n",
    "const tools = [\n",
    "    new Calculator()\n",
    "];\n",
    "\n",
    "// Create the React agent\n",
    "const agent = createReactAgent({\n",
    "    llm,\n",
    "    tools,\n",
    "});"
   ]
  },
  {
   "cell_type": "code",
   "execution_count": 7,
   "id": "0bc80632-47dc-4364-be67-5ef24dcfc654",
   "metadata": {},
   "outputs": [
    {
     "data": {
      "text/plain": [
       "Promise { <pending> }"
      ]
     },
     "execution_count": 7,
     "metadata": {},
     "output_type": "execute_result"
    },
    {
     "name": "stderr",
     "output_type": "stream",
     "text": [
      "field[contentBlockIndex] already exists in this message chunk and value has unsupported type.\n"
     ]
    },
    {
     "name": "stdout",
     "output_type": "stream",
     "text": [
      "{\n",
      "  messages: [\n",
      "    HumanMessage {\n",
      "      \"id\": \"0f8ea558-c119-47b2-9741-93515c567890\",\n",
      "      \"content\": \"what is 1+1?\",\n",
      "      \"additional_kwargs\": {},\n",
      "      \"response_metadata\": {}\n",
      "    },\n",
      "    AIMessageChunk {\n",
      "      \"id\": \"5143447d-8567-491b-b2bb-385710658df1\",\n",
      "      \"content\": \"I'll help you calculate that using the calculator tool.\",\n",
      "      \"additional_kwargs\": {},\n",
      "      \"response_metadata\": {\n",
      "        \"messageStart\": {\n",
      "          \"p\": \"abcdefghijklmnopqrstuvwxyzABCDEFGHIJKLMNOPQRSTUVWXYZ01234567\",\n",
      "          \"role\": \"assistant\"\n",
      "        },\n",
      "        \"contentBlockStop\": {\n",
      "          \"contentBlockIndex\": 0,\n",
      "          \"p\": \"abcdefghijklmnoab\"\n",
      "        },\n",
      "        \"messageStop\": {\n",
      "          \"stopReason\": \"tool_use\"\n",
      "        },\n",
      "        \"metadata\": {\n",
      "          \"metrics\": {\n",
      "            \"latencyMs\": 1304\n",
      "          },\n",
      "          \"usage\": {\n",
      "            \"inputTokens\": 375,\n",
      "            \"outputTokens\": 54,\n",
      "            \"totalTokens\": 429\n",
      "          }\n",
      "        }\n",
      "      },\n",
      "      \"tool_calls\": [\n",
      "        {\n",
      "          \"name\": \"calculator\",\n",
      "          \"args\": {\n",
      "            \"input\": \"1+1\"\n",
      "          },\n",
      "          \"id\": \"tooluse_WiKGxtZcQU26oqiAe7dzmQ\",\n",
      "          \"type\": \"tool_call\"\n",
      "        }\n",
      "      ],\n",
      "      \"tool_call_chunks\": [\n",
      "        {\n",
      "          \"name\": \"calculator\",\n",
      "          \"id\": \"tooluse_WiKGxtZcQU26oqiAe7dzmQ\",\n",
      "          \"index\": 1,\n",
      "          \"type\": \"tool_call_chunk\",\n",
      "          \"args\": \"{\\\"input\\\": \\\"1+1\\\"}\"\n",
      "        }\n",
      "      ],\n",
      "      \"invalid_tool_calls\": [],\n",
      "      \"usage_metadata\": {\n",
      "        \"input_tokens\": 375,\n",
      "        \"output_tokens\": 54,\n",
      "        \"total_tokens\": 429\n",
      "      }\n",
      "    },\n",
      "    ToolMessage {\n",
      "      \"id\": \"988736f7-03eb-43f9-9638-696db65056e2\",\n",
      "      \"content\": \"2\",\n",
      "      \"name\": \"calculator\",\n",
      "      \"additional_kwargs\": {},\n",
      "      \"response_metadata\": {},\n",
      "      \"tool_call_id\": \"tooluse_WiKGxtZcQU26oqiAe7dzmQ\"\n",
      "    },\n",
      "    AIMessageChunk {\n",
      "      \"id\": \"c7f19af8-67b8-4f4f-a27d-c03e32c49294\",\n",
      "      \"content\": \"\\n\\nThe answer is 2. 1+1 equals 2.\",\n",
      "      \"additional_kwargs\": {},\n",
      "      \"response_metadata\": {\n",
      "        \"messageStart\": {\n",
      "          \"p\": \"abcdefghijklmnopqrstuvwxyzABCDEFGHIJKLM\",\n",
      "          \"role\": \"assistant\"\n",
      "        },\n",
      "        \"contentBlockStop\": {\n",
      "          \"contentBlockIndex\": 0,\n",
      "          \"p\": \"abcdefghijklmnopqrstuvwxyzABCDEFGHIJKLMNOPQRSTUVWXYZ01234567\"\n",
      "        },\n",
      "        \"messageStop\": {\n",
      "          \"stopReason\": \"end_turn\"\n",
      "        },\n",
      "        \"metadata\": {\n",
      "          \"metrics\": {\n",
      "            \"latencyMs\": 763\n",
      "          },\n",
      "          \"usage\": {\n",
      "            \"inputTokens\": 452,\n",
      "            \"outputTokens\": 19,\n",
      "            \"totalTokens\": 471\n",
      "          }\n",
      "        }\n",
      "      },\n",
      "      \"tool_calls\": [],\n",
      "      \"tool_call_chunks\": [],\n",
      "      \"invalid_tool_calls\": [],\n",
      "      \"usage_metadata\": {\n",
      "        \"input_tokens\": 452,\n",
      "        \"output_tokens\": 19,\n",
      "        \"total_tokens\": 471\n",
      "      }\n",
      "    }\n",
      "  ]\n",
      "}\n"
     ]
    }
   ],
   "source": [
    "(async () => {\n",
    "    const agentFinalState = await agent.invoke(\n",
    "      { messages: [new HumanMessage(\"what is 1+1?\")] }\n",
    "    );\n",
    "    console.log(agentFinalState)\n",
    "})()"
   ]
  },
  {
   "cell_type": "code",
   "execution_count": null,
   "id": "a604bb10-8871-434f-9fa0-3452e1771ba7",
   "metadata": {},
   "outputs": [],
   "source": []
  }
 ],
 "metadata": {
  "kernelspec": {
   "display_name": "JavaScript (Node.js)",
   "language": "javascript",
   "name": "javascript"
  },
  "language_info": {
   "file_extension": ".js",
   "mimetype": "application/javascript",
   "name": "javascript",
   "version": "20.18.1"
  }
 },
 "nbformat": 4,
 "nbformat_minor": 5
}
