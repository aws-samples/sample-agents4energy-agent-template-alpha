{
 "cells": [
  {
   "cell_type": "markdown",
   "id": "a847981c-cb29-488a-bfae-dcf376132c36",
   "metadata": {},
   "source": [
    "# Lab 2: Building Your First LangGraph Agent with AWS Bedrock\n",
    "\n",
    "In this lab, you'll learn how to create your first AI agent using LangGraph and AWS Bedrock. You'll understand core concepts, implement a conversational agent, and manage agent state locally.\n",
    "\n",
    "## Prerequisites\n",
    "- Completed Lab 1 setup\n",
    "- Python 3.9+ installed\n",
    "- AWS account with Bedrock access\n",
    "- Basic understanding of Python and async programming\n",
    "- AWS credentials configured locally\n",
    "\n",
    "## Learning Objectives\n",
    "- Understand LangGraph core concepts\n",
    "- Build a basic conversational agent using AWS Bedrock\n",
    "- Implement state management\n",
    "- Test the agent locally\n",
    "\n",
    "## Part 1: Understanding LangGraph Concepts\n",
    "\n",
    "LangGraph is a framework for building stateful, multi-step AI agents. Key concepts include:\n",
    "\n",
    "- **Nodes**: Individual steps in your agent's workflow\n",
    "- **Edges**: Connections between nodes that define the flow\n",
    "- **State**: Information persisted between steps\n",
    "- **Tools**: Functions your agent can use to interact with the world\n",
    "- **Events**: Stream of information during agent execution\n",
    "\n",
    "## Part 2: Setting Up Your Agent"
   ]
  },
  {
   "cell_type": "code",
   "execution_count": 1,
   "id": "3d791750-5b0a-417b-8014-f4ec3531d485",
   "metadata": {},
   "outputs": [
    {
     "data": {
      "text/plain": [
       "20"
      ]
     },
     "execution_count": 1,
     "metadata": {},
     "output_type": "execute_result"
    }
   ],
   "source": [
    "const { ChatBedrockConverse } = require(\"@langchain/aws\");\n",
    "const { HumanMessage, AIMessage, SystemMessage, BaseMessage } = require(\"@langchain/core/messages\");\n",
    "const { createReactAgent } = require(\"@langchain/langgraph/prebuilt\");\n",
    "const { Calculator } = require(\"@langchain/community/tools/calculator\");\n",
    "const { EventEmitter } = require(\"events\");\n",
    "\n",
    "process.env.AWS_DEFAULT_REGION='us-east-1'"
   ]
  },
  {
   "cell_type": "code",
   "execution_count": 2,
   "id": "9fb3d621-38c7-4f05-9774-26bb2b24e460",
   "metadata": {},
   "outputs": [],
   "source": [
    "// Initialize Bedrock LLM\n",
    "const llm = new ChatBedrockConverse({\n",
    "    model: \"us.anthropic.claude-3-5-haiku-20241022-v1:0\"\n",
    "});\n",
    "\n",
    "// Define available tools\n",
    "const tools = [\n",
    "    new Calculator()\n",
    "];\n",
    "\n",
    "// Create the React agent\n",
    "const agent = createReactAgent({\n",
    "    llm,\n",
    "    tools,\n",
    "});"
   ]
  },
  {
   "cell_type": "code",
   "execution_count": 3,
   "id": "0bc80632-47dc-4364-be67-5ef24dcfc654",
   "metadata": {},
   "outputs": [
    {
     "data": {
      "text/plain": [
       "Promise { <pending> }"
      ]
     },
     "execution_count": 3,
     "metadata": {},
     "output_type": "execute_result"
    },
    {
     "name": "stdout",
     "output_type": "stream",
     "text": [
      "{\n",
      "  messages: [\n",
      "    HumanMessage {\n",
      "      \"id\": \"bdc565f1-17b0-4e57-ab6a-6e18235c7554\",\n",
      "      \"content\": \"what is 1+1?\",\n",
      "      \"additional_kwargs\": {},\n",
      "      \"response_metadata\": {}\n",
      "    },\n",
      "    AIMessage {\n",
      "      \"id\": \"33157df7-cada-4b0f-b6fc-a5743810ef58\",\n",
      "      \"content\": [\n",
      "        {\n",
      "          \"type\": \"text\",\n",
      "          \"text\": \"Let me help you calculate that using the calculator tool.\"\n",
      "        }\n",
      "      ],\n",
      "      \"additional_kwargs\": {},\n",
      "      \"response_metadata\": {\n",
      "        \"$metadata\": {\n",
      "          \"httpStatusCode\": 200,\n",
      "          \"requestId\": \"33157df7-cada-4b0f-b6fc-a5743810ef58\",\n",
      "          \"attempts\": 1,\n",
      "          \"totalRetryDelay\": 0\n",
      "        },\n",
      "        \"metrics\": {\n",
      "          \"latencyMs\": 2273\n",
      "        },\n",
      "        \"stopReason\": \"tool_use\",\n",
      "        \"usage\": {\n",
      "          \"inputTokens\": 375,\n",
      "          \"outputTokens\": 65,\n",
      "          \"totalTokens\": 440\n",
      "        }\n",
      "      },\n",
      "      \"tool_calls\": [\n",
      "        {\n",
      "          \"id\": \"tooluse_ZnreKriqRUOM9n5HdMYdhw\",\n",
      "          \"name\": \"calculator\",\n",
      "          \"args\": {\n",
      "            \"input\": \"1+1\"\n",
      "          },\n",
      "          \"type\": \"tool_call\"\n",
      "        }\n",
      "      ],\n",
      "      \"invalid_tool_calls\": [],\n",
      "      \"usage_metadata\": {\n",
      "        \"input_tokens\": 375,\n",
      "        \"output_tokens\": 65,\n",
      "        \"total_tokens\": 440\n",
      "      }\n",
      "    },\n",
      "    ToolMessage {\n",
      "      \"id\": \"2735c9e1-9d33-4999-a53d-f2d024e685eb\",\n",
      "      \"content\": \"2\",\n",
      "      \"name\": \"calculator\",\n",
      "      \"additional_kwargs\": {},\n",
      "      \"response_metadata\": {},\n",
      "      \"tool_call_id\": \"tooluse_ZnreKriqRUOM9n5HdMYdhw\"\n",
      "    },\n",
      "    AIMessage {\n",
      "      \"id\": \"657d6ef5-77ab-4d6d-bd77-49579db9410c\",\n",
      "      \"content\": \"The answer is 2. Simple addition of 1 and 1 equals 2.\",\n",
      "      \"additional_kwargs\": {},\n",
      "      \"response_metadata\": {\n",
      "        \"$metadata\": {\n",
      "          \"httpStatusCode\": 200,\n",
      "          \"requestId\": \"657d6ef5-77ab-4d6d-bd77-49579db9410c\",\n",
      "          \"attempts\": 1,\n",
      "          \"totalRetryDelay\": 0\n",
      "        },\n",
      "        \"metrics\": {\n",
      "          \"latencyMs\": 1522\n",
      "        },\n",
      "        \"stopReason\": \"end_turn\",\n",
      "        \"usage\": {\n",
      "          \"inputTokens\": 452,\n",
      "          \"outputTokens\": 24,\n",
      "          \"totalTokens\": 476\n",
      "        }\n",
      "      },\n",
      "      \"tool_calls\": [],\n",
      "      \"invalid_tool_calls\": [],\n",
      "      \"usage_metadata\": {\n",
      "        \"input_tokens\": 452,\n",
      "        \"output_tokens\": 24,\n",
      "        \"total_tokens\": 476\n",
      "      }\n",
      "    }\n",
      "  ]\n",
      "}\n"
     ]
    }
   ],
   "source": [
    "(async () => {\n",
    "    const agentFinalState = await agent.invoke(\n",
    "      { messages: [new HumanMessage(\"what is 1+1?\")] }\n",
    "    );\n",
    "    console.log(agentFinalState)\n",
    "})()"
   ]
  },
  {
   "cell_type": "code",
   "execution_count": null,
   "id": "a604bb10-8871-434f-9fa0-3452e1771ba7",
   "metadata": {},
   "outputs": [],
   "source": []
  },
  {
   "cell_type": "code",
   "execution_count": null,
   "id": "a6da3a51-3e5e-45d3-9189-39fd914a4ff7",
   "metadata": {},
   "outputs": [],
   "source": []
  },
  {
   "cell_type": "code",
   "execution_count": null,
   "id": "457e4c81-9d67-47b2-86fc-83a996b63a6d",
   "metadata": {},
   "outputs": [],
   "source": []
  },
  {
   "cell_type": "code",
   "execution_count": null,
   "id": "bb5cc4f0-2b19-4ec6-9399-8f7c74429cb4",
   "metadata": {},
   "outputs": [],
   "source": []
  }
 ],
 "metadata": {
  "kernelspec": {
   "display_name": "JavaScript (Node.js)",
   "language": "javascript",
   "name": "javascript"
  },
  "language_info": {
   "file_extension": ".js",
   "mimetype": "application/javascript",
   "name": "javascript",
   "version": "20.18.1"
  }
 },
 "nbformat": 4,
 "nbformat_minor": 5
}
